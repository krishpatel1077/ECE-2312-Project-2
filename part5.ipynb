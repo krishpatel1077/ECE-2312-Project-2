{
 "cells": [
  {
   "cell_type": "code",
   "execution_count": 5,
   "metadata": {},
   "outputs": [],
   "source": [
    "import librosa\n",
    "import IPython as ip\n",
    "from scipy.io.wavfile import write\n",
    "import numpy as np\n",
    "import sounddevice as sd"
   ]
  },
  {
   "cell_type": "code",
   "execution_count": 10,
   "metadata": {},
   "outputs": [],
   "source": [
    "#samplind_rate1 = sampling_rate2 = 44100\n",
    "y1, sample_rate1 = librosa.load('quick_brown_fox_MONO.wav',sr=44100, mono=True)\n",
    "y2, sample_rate2 = librosa.load('teamKKA-sinetone.wav',sr=44100, mono=True)\n",
    "sr=44100\n",
    "\n",
    "output = y1+y2\n",
    "\n",
    "sd.play(output, samplerate=sr)\n",
    "sd.wait()\n",
    "write(f\"teamKKA-speechchirp.wav\", sr, output)"
   ]
  }
 ],
 "metadata": {
  "kernelspec": {
   "display_name": "Python 3",
   "language": "python",
   "name": "python3"
  },
  "language_info": {
   "codemirror_mode": {
    "name": "ipython",
    "version": 3
   },
   "file_extension": ".py",
   "mimetype": "text/x-python",
   "name": "python",
   "nbconvert_exporter": "python",
   "pygments_lexer": "ipython3",
   "version": "3.11.7"
  }
 },
 "nbformat": 4,
 "nbformat_minor": 2
}
