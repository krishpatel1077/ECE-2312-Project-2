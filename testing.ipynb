{
 "cells": [
  {
   "cell_type": "code",
   "execution_count": 1,
   "metadata": {},
   "outputs": [],
   "source": [
    "import numpy as np\n",
    "import sounddevice as sd\n",
    "from scipy.io.wavfile import write\n",
    "import matplotlib.pyplot as plt\n",
    "import librosa.display\n",
    "import IPython.display as ipd"
   ]
  },
  {
   "cell_type": "code",
   "execution_count": 6,
   "metadata": {},
   "outputs": [
    {
     "name": "stdout",
     "output_type": "stream",
     "text": [
      "this is the output: \n",
      " [0.00000000e+00 5.87648432e-07 2.35059373e-06 ... 5.59992744e+04\n",
      " 5.59996372e+04 5.60000000e+04]\n"
     ]
    }
   ],
   "source": [
    "#Sample rate from project 1\n",
    "sr= 44100\n",
    "\n",
    "#function to create the chirp signal\n",
    "def generate_chirp_tone(duration):\n",
    "    # Time array for the sine tone\n",
    "    time = np.linspace(0, duration, int(sr*duration))\n",
    "    # Frequency of the sine tone varying 0 to 8000Hz\n",
    "    frequency = np.linspace(0, 8000, len(time))\n",
    "    \n",
    "    output = frequency*time\n",
    "    print(\"this is the output: \\n\",output)\n",
    "\n",
    "    # Generate the sine tone\n",
    "    chirp_wave = np.sin(2 * np.pi * frequency * time)\n",
    "    # Play the sine tone\n",
    "    sd.play(chirp_wave, samplerate=sr)\n",
    "    sd.wait()  # Wait until the sine tone is done playing\n",
    "    # Save the sine tone to a WAV file\n",
    "    write(f'teamKKA-chirp.wav', sr, chirp_wave)\n",
    "\n",
    "    \"\"\" # Plot the spectrogram of the sine tone\n",
    "    plt.figure(figsize=(10, 4))\n",
    "    librosa.display.specshow(librosa.amplitude_to_db(np.abs(librosa.stft(chirp_wave)), ref=np.max), sr=sr, x_axis='time', y_axis='log')\n",
    "    plt.colorbar(format='%+2.0f dB')\n",
    "    plt.title('Spectrogram of Chirp Signal')\n",
    "    plt.xlabel('Time (s)')\n",
    "    plt.ylabel('Frequency (Hz)')\n",
    "    plt.tight_layout()\n",
    "    plt.savefig('chirp_spectrogram.png')  # Save spectrogram as PNG image\n",
    "    plt.show() \"\"\"\n",
    "    \n",
    "# Ask for speech duration input (I'm setting this to 7 seconds by default)\n",
    "speech_duration = float(input(\"Enter the duration of the speech file in seconds: \"))\n",
    "\n",
    "# Generate sine tone with the provided duration\n",
    "generate_chirp_tone(speech_duration)\n"
   ]
  }
 ],
 "metadata": {
  "kernelspec": {
   "display_name": "Python 3",
   "language": "python",
   "name": "python3"
  },
  "language_info": {
   "codemirror_mode": {
    "name": "ipython",
    "version": 3
   },
   "file_extension": ".py",
   "mimetype": "text/x-python",
   "name": "python",
   "nbconvert_exporter": "python",
   "pygments_lexer": "ipython3",
   "version": "3.11.7"
  }
 },
 "nbformat": 4,
 "nbformat_minor": 2
}
